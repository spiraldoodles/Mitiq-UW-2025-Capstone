{
 "cells": [
  {
   "cell_type": "markdown",
   "metadata": {},
   "source": [
    "Hands-on lab on error mitigation with Mitiq."
   ]
  },
  {
   "cell_type": "code",
   "execution_count": 1,
   "metadata": {},
   "outputs": [
    {
     "name": "stdout",
     "output_type": "stream",
     "text": [
      "GHZ circuit:\n",
      "     ┌───┐                              \n",
      "q_0: ┤ H ├──■───────────────────────────\n",
      "     └───┘┌─┴─┐                         \n",
      "q_1: ─────┤ X ├──■──────────────────────\n",
      "          └───┘┌─┴─┐                    \n",
      "q_2: ──────────┤ X ├──■─────────────────\n",
      "               └───┘┌─┴─┐               \n",
      "q_3: ───────────────┤ X ├──■────────────\n",
      "                    └───┘┌─┴─┐          \n",
      "q_4: ────────────────────┤ X ├──■───────\n",
      "                         └───┘┌─┴─┐     \n",
      "q_5: ─────────────────────────┤ X ├──■──\n",
      "                              └───┘┌─┴─┐\n",
      "q_6: ──────────────────────────────┤ X ├\n",
      "                                   └───┘\n"
     ]
    }
   ],
   "source": [
    "from mitiq.benchmarks import generate_ghz_circuit\n",
    "\n",
    "\n",
    "n_qubits = 7\n",
    "\n",
    "circuit = generate_ghz_circuit(n_qubits=n_qubits, return_type=\"qiskit\")\n",
    "print(\"GHZ circuit:\")\n",
    "print(circuit)"
   ]
  },
  {
   "cell_type": "code",
   "execution_count": 2,
   "metadata": {},
   "outputs": [],
   "source": [
    "from qiskit import QuantumCircuit\n",
    "from qiskit_aer import AerSimulator\n",
    "from qiskit.visualization import plot_histogram\n",
    "from qiskit import transpile\n",
    "from qiskit_ibm_runtime.fake_provider import FakeJakartaV2 as FakeJakarta  # Fake (simulated) QPUs\n",
    "\n",
    "# Number of measurements\n",
    "shots = 10 ** 5"
   ]
  },
  {
   "cell_type": "code",
   "execution_count": null,
   "metadata": {},
   "outputs": [],
   "source": [
    "ideal_backend = AerSimulator()\n",
    "\n",
    "# Append measurement gates\n",
    "circuit_to_run = circuit.copy()\n",
    "circuit_to_run.measure_all()\n",
    "\n",
    "# TODO: Run circuit_to_run on the ideal backend and get the ideal counts\n",
    "\n",
    "plot_histogram(ideal_counts, title='Counts for an ideal GHZ state')"
   ]
  }
 ],
 "metadata": {
  "kernelspec": {
   "display_name": "PHYS522_yml",
   "language": "python",
   "name": "python3"
  },
  "language_info": {
   "codemirror_mode": {
    "name": "ipython",
    "version": 3
   },
   "file_extension": ".py",
   "mimetype": "text/x-python",
   "name": "python",
   "nbconvert_exporter": "python",
   "pygments_lexer": "ipython3",
   "version": "3.12.8"
  }
 },
 "nbformat": 4,
 "nbformat_minor": 2
}
